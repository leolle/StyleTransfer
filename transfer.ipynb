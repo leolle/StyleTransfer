{
 "cells": [
  {
   "cell_type": "markdown",
   "metadata": {},
   "source": [
    "### 1. import modules"
   ]
  },
  {
   "cell_type": "code",
   "execution_count": 40,
   "metadata": {},
   "outputs": [],
   "source": [
    "import os\n",
    "import tqdm\n",
    "import argparse\n",
    "import numpy as np\n",
    "\n",
    "import torch\n",
    "from torchvision.utils import save_image\n",
    "\n",
    "from model import WaveEncoder, WaveDecoder\n",
    "\n",
    "from utils.core import feature_wct\n",
    "from utils.io import Timer, open_image, load_segment, compute_label_info\n",
    "\n",
    "\n",
    "class WCT2:\n",
    "    def __init__(self, model_path='./model_checkpoints', transfer_at=['encoder', 'skip', 'decoder'], option_unpool='cat5', device='cuda:0', verbose=False):\n",
    "\n",
    "        self.transfer_at = set(transfer_at)\n",
    "        assert not(self.transfer_at - set(['encoder', 'decoder', 'skip'])), 'invalid transfer_at: {}'.format(transfer_at)\n",
    "        assert self.transfer_at, 'empty transfer_at'\n",
    "\n",
    "        self.device = torch.device(device)\n",
    "        self.verbose = verbose\n",
    "        self.encoder = WaveEncoder(option_unpool).to(self.device)\n",
    "        self.decoder = WaveDecoder(option_unpool).to(self.device)\n",
    "        self.encoder.load_state_dict(torch.load(os.path.join(model_path, 'wave_encoder_{}_l4.pth'.format(option_unpool)), map_location=self.device))\n",
    "        self.decoder.load_state_dict(torch.load(os.path.join(model_path, 'wave_decoder_{}_l4.pth'.format(option_unpool)), map_location=self.device))\n",
    "\n",
    "    def print_(self, msg):\n",
    "        if self.verbose:\n",
    "            print(msg)\n",
    "\n",
    "    def encode(self, x, skips, level):\n",
    "        return self.encoder.encode(x, skips, level)\n",
    "\n",
    "    def decode(self, x, skips, level):\n",
    "        return self.decoder.decode(x, skips, level)\n",
    "\n",
    "    def get_all_feature(self, x):\n",
    "        skips = {}\n",
    "        feats = {'encoder': {}, 'decoder': {}}\n",
    "        for level in [1, 2, 3, 4]:\n",
    "            x = self.encode(x, skips, level)\n",
    "            if 'encoder' in self.transfer_at:\n",
    "                feats['encoder'][level] = x\n",
    "\n",
    "        if 'encoder' not in self.transfer_at:\n",
    "            feats['decoder'][4] = x\n",
    "        for level in [4, 3, 2]:\n",
    "            x = self.decode(x, skips, level)\n",
    "            if 'decoder' in self.transfer_at:\n",
    "                feats['decoder'][level - 1] = x\n",
    "        return feats, skips\n",
    "\n",
    "    def transfer(self, content, style, content_segment, style_segment, alpha=1):\n",
    "        label_set, label_indicator = compute_label_info(content_segment, style_segment)\n",
    "        content_feat, content_skips = content, {}\n",
    "        style_feats, style_skips = self.get_all_feature(style)\n",
    "\n",
    "        wct2_enc_level = [1, 2, 3, 4]\n",
    "        wct2_dec_level = [1, 2, 3, 4]\n",
    "        wct2_skip_level = ['pool1', 'pool2', 'pool3']\n",
    "\n",
    "        for level in [1, 2, 3, 4]:\n",
    "            content_feat = self.encode(content_feat, content_skips, level)\n",
    "            if 'encoder' in self.transfer_at and level in wct2_enc_level:\n",
    "                content_feat = feature_wct(content_feat, style_feats['encoder'][level],\n",
    "                                           content_segment, style_segment,\n",
    "                                           label_set, label_indicator,\n",
    "                                           alpha=alpha, device=self.device)\n",
    "                self.print_('transfer at encoder {}'.format(level))\n",
    "        if 'skip' in self.transfer_at:\n",
    "            for skip_level in wct2_skip_level:\n",
    "                for component in [0, 1, 2]:  # component: [LH, HL, HH]\n",
    "                    content_skips[skip_level][component] = feature_wct(content_skips[skip_level][component], style_skips[skip_level][component],\n",
    "                                                                       content_segment, style_segment,\n",
    "                                                                       label_set, label_indicator,\n",
    "                                                                       alpha=alpha, device=self.device)\n",
    "                self.print_('transfer at skip {}'.format(skip_level))\n",
    "\n",
    "        for level in [4, 3, 2, 1]:\n",
    "            if 'decoder' in self.transfer_at and level in style_feats['decoder'] and level in wct2_dec_level:\n",
    "                content_feat = feature_wct(content_feat, style_feats['decoder'][level],\n",
    "                                           content_segment, style_segment,\n",
    "                                           label_set, label_indicator,\n",
    "                                           alpha=alpha, device=self.device)\n",
    "                self.print_('transfer at decoder {}'.format(level))\n",
    "            content_feat = self.decode(content_feat, content_skips, level)\n",
    "        return content_feat\n",
    "\n",
    "\n",
    "def get_all_transfer():\n",
    "    ret = []\n",
    "    for e in ['encoder', None]:\n",
    "        for d in ['decoder', None]:\n",
    "            for s in ['skip', None]:\n",
    "                _ret = set([e, d, s]) & set(['encoder', 'decoder', 'skip'])\n",
    "                if _ret:\n",
    "                    ret.append(_ret)\n",
    "    return ret\n",
    "\n",
    "\n",
    "def run_bulk(config):\n",
    "    device = 'cpu' if config.cpu or not torch.cuda.is_available() else 'cuda:0'\n",
    "    device = torch.device(device)\n",
    "\n",
    "    transfer_at = set()\n",
    "    if config.transfer_at_encoder:\n",
    "        transfer_at.add('encoder')\n",
    "    if config.transfer_at_decoder:\n",
    "        transfer_at.add('decoder')\n",
    "    if config.transfer_at_skip:\n",
    "        transfer_at.add('skip')\n",
    "\n",
    "    # The filenames of the content and style pair should match\n",
    "    fnames = set(os.listdir(config.content)) & set(os.listdir(config.style))\n",
    "\n",
    "    if config.content_segment and config.style_segment:\n",
    "        fnames &= set(os.listdir(config.content_segment))\n",
    "        fnames &= set(os.listdir(config.style_segment))\n",
    "\n",
    "    for fname in tqdm.tqdm(fnames):\n",
    "        try:\n",
    "            if not fname.endswith('.png'):\n",
    "                print('invalid file (should end with .png), ', fname)\n",
    "                continue\n",
    "            _content = os.path.join(config.content, fname)\n",
    "            _style = os.path.join(config.style, fname)\n",
    "            _content_segment = os.path.join(config.content_segment, fname) if config.content_segment else None\n",
    "            _style_segment = os.path.join(config.style_segment, fname) if config.style_segment else None\n",
    "            _output = os.path.join(config.output, fname)\n",
    "\n",
    "            content = open_image(_content, config.image_size).to(device)\n",
    "            style = open_image(_style, config.image_size).to(device)\n",
    "            content_segment = load_segment(_content_segment, config.image_size)\n",
    "            style_segment = load_segment(_style_segment, config.image_size)\n",
    "\n",
    "            if not config.transfer_all:\n",
    "                with Timer('Elapsed time in whole WCT: {}', config.verbose):\n",
    "                    postfix = '_'.join(sorted(list(transfer_at)))\n",
    "                    fname_output = _output.replace('.png', '_{}_{}.png'.format(config.option_unpool, postfix))\n",
    "                    print('------ transfer:', _output)\n",
    "                    wct2 = WCT2(transfer_at=transfer_at, option_unpool=config.option_unpool, device=device, verbose=config.verbose)\n",
    "                    with torch.no_grad():\n",
    "                        img = wct2.transfer(content, style, content_segment, style_segment, alpha=config.alpha)\n",
    "                    save_image(img.clamp_(0, 1), fname_output, padding=0)\n",
    "            else:\n",
    "                for _transfer_at in get_all_transfer():\n",
    "                    with Timer('Elapsed time in whole WCT: {}', config.verbose):\n",
    "                        postfix = '_'.join(sorted(list(_transfer_at)))\n",
    "                        fname_output = _output.replace('.png', '_{}_{}.png'.format(config.option_unpool, postfix))\n",
    "                        print('------ transfer:', fname)\n",
    "                        wct2 = WCT2(transfer_at=_transfer_at, option_unpool=config.option_unpool, device=device, verbose=config.verbose)\n",
    "                        with torch.no_grad():\n",
    "                            img = wct2.transfer(content, style, content_segment, style_segment, alpha=config.alpha)\n",
    "                        save_image(img.clamp_(0, 1), fname_output, padding=0)\n",
    "        except:\n",
    "            continue\n"
   ]
  },
  {
   "cell_type": "code",
   "execution_count": 78,
   "metadata": {},
   "outputs": [],
   "source": [
    "class argparse(dict):\n",
    "    \"\"\"\n",
    "    Example:\n",
    "    m = Map({'first_name': 'Eduardo'}, last_name='Pool', age=24, sports=['Soccer'])\n",
    "    \"\"\"\n",
    "    def __init__(self, *args, **kwargs):\n",
    "        super(argparse, self).__init__(*args, **kwargs)\n",
    "        for arg in args:\n",
    "            if isinstance(arg, dict):\n",
    "                for k, v in arg.iteritems():\n",
    "                    self[k] = v\n",
    "\n",
    "        if kwargs:\n",
    "            for k, v in kwargs.iteritems():\n",
    "                self[k] = v\n",
    "    def add_argument(self, *args, **kwargs):\n",
    "        # super(Map, self).__init__(*args, **kwargs)\n",
    "        for i in args:\n",
    "            self[i.strip('-')] = kwargs.get('default', None)\n",
    "            if 'action' in kwargs:\n",
    "                if kwargs['action'] == 'store_true':\n",
    "                    self[i.strip('-')] = True\n",
    "                else:\n",
    "                    self[i.strip('-')] = False\n",
    "    def parse_args(self):\n",
    "        return self\n",
    "\n",
    "    def __getattr__(self, attr):\n",
    "        return self.get(attr)\n",
    "\n",
    "    def __setattr__(self, key, value):\n",
    "        self.__setitem__(key, value)\n",
    "\n",
    "    def __setitem__(self, key, value):\n",
    "        super(argparse, self).__setitem__(key, value)\n",
    "        self.__dict__.update({key: value})\n",
    "\n",
    "    def __delattr__(self, item):\n",
    "        self.__delitem__(item)\n",
    "\n",
    "    def __delitem__(self, key):\n",
    "        super(argparse, self).__delitem__(key)\n",
    "        del self.__dict__[key]"
   ]
  },
  {
   "cell_type": "code",
   "execution_count": 79,
   "metadata": {},
   "outputs": [],
   "source": [
    "parser = argparse()\n",
    "parser.add_argument('--content', type=str, default='./examples/content1')\n",
    "parser.add_argument('--content_segment', type=str, default='./examples/content_segment')\n",
    "parser.add_argument('--style', type=str, default='./examples/style')\n",
    "parser.add_argument('--style_segment', type=str, default='./examples/style_segment')\n",
    "parser.add_argument('--output', type=str, default='./outputs')\n",
    "parser.add_argument('--image_size', type=int, default=512)\n",
    "parser.add_argument('--alpha', type=float, default=1)\n",
    "parser.add_argument('--option_unpool', type=str, default='cat5', choices=['sum', 'cat5'])\n",
    "parser.add_argument('-e', '--transfer_at_encoder', action='store_true')\n",
    "parser.add_argument('-d', '--transfer_at_decoder', action='store_true')\n",
    "parser.add_argument('-s', '--transfer_at_skip', action='store_true')\n",
    "parser.add_argument('-a', '--transfer_all', action='store_true')\n",
    "parser.add_argument('--cpu', action='store_true')\n",
    "parser.add_argument('--verbose', action='store_true')\n"
   ]
  },
  {
   "cell_type": "code",
   "execution_count": 80,
   "metadata": {},
   "outputs": [],
   "source": [
    "config = parser.parse_args()\n"
   ]
  },
  {
   "cell_type": "code",
   "execution_count": 81,
   "metadata": {},
   "outputs": [
    {
     "name": "stdout",
     "output_type": "stream",
     "text": [
      "{'content': './examples/content1', 'content_segment': './examples/content_segment', 'style': './examples/style', 'style_segment': './examples/style_segment', 'output': './outputs', 'image_size': 512, 'alpha': 1, 'option_unpool': 'cat5', 'e': True, 'transfer_at_encoder': True, 'd': True, 'transfer_at_decoder': True, 's': True, 'transfer_at_skip': True, 'a': True, 'transfer_all': True, 'cpu': True, 'verbose': True}\n"
     ]
    },
    {
     "data": {
      "text/plain": [
       "'\\nCUDA_VISIBLE_DEVICES=6 python transfer.py --content ./examples/content --style ./examples/style --content_segment ./examples/content_segment --style_segment ./examples/style_segment/ --output ./outputs/ --verbose --image_size 512 -a\\n'"
      ]
     },
     "execution_count": 81,
     "metadata": {},
     "output_type": "execute_result"
    }
   ],
   "source": [
    "\n",
    "print(config)\n",
    "\n",
    "# if not os.path.exists(os.path.join(config.output)):\n",
    "#     os.makedirs(os.path.join(config.output))\n",
    "\n",
    "'''\n",
    "CUDA_VISIBLE_DEVICES=6 python transfer.py --content ./examples/content --style ./examples/style --content_segment ./examples/content_segment --style_segment ./examples/style_segment/ --output ./outputs/ --verbose --image_size 512 -a\n",
    "'''\n",
    "# run_bulk(config)\n"
   ]
  },
  {
   "cell_type": "code",
   "execution_count": 82,
   "metadata": {},
   "outputs": [],
   "source": [
    "device = 'cuda:0'\n",
    "device = torch.device(device)\n",
    "\n",
    "transfer_at = set()\n",
    "# The filenames of the content and style pair should match\n",
    "fnames = set(os.listdir(config.content)) & set(os.listdir(config.style))\n",
    "\n",
    "if config.content_segment and config.style_segment:\n",
    "    fnames &= set(os.listdir(config.content_segment))\n",
    "    fnames &= set(os.listdir(config.style_segment))\n"
   ]
  },
  {
   "cell_type": "code",
   "execution_count": 83,
   "metadata": {
    "scrolled": true
   },
   "outputs": [
    {
     "data": {
      "text/plain": [
       "{'gym1.jpg', 'train1.jpg', 'train2.jpg', 'train3.jpg'}"
      ]
     },
     "execution_count": 83,
     "metadata": {},
     "output_type": "execute_result"
    }
   ],
   "source": [
    "fnames"
   ]
  },
  {
   "cell_type": "code",
   "execution_count": 12,
   "metadata": {},
   "outputs": [],
   "source": [
    "fname = '鞍馬寺.png'"
   ]
  },
  {
   "cell_type": "raw",
   "metadata": {},
   "source": [
    "fname = 'in00.png'"
   ]
  },
  {
   "cell_type": "code",
   "execution_count": 115,
   "metadata": {},
   "outputs": [],
   "source": [
    "fname = 'gym1.jpg'"
   ]
  },
  {
   "cell_type": "code",
   "execution_count": 116,
   "metadata": {},
   "outputs": [],
   "source": [
    "_content = os.path.join(config.content, fname)\n",
    "_style = os.path.join(config.style, fname)\n",
    "_content_segment = os.path.join(config.content_segment, fname) if config.content_segment else None\n",
    "_style_segment = os.path.join(config.style_segment, fname) if config.style_segment else None\n",
    "_output = os.path.join(config.output, fname)"
   ]
  },
  {
   "cell_type": "code",
   "execution_count": 117,
   "metadata": {},
   "outputs": [],
   "source": [
    "content = open_image(_content, config.image_size).to(device)\n",
    "style = open_image(_style, config.image_size).to(device)\n",
    "content_segment = load_segment(_content_segment, config.image_size)\n",
    "style_segment = load_segment(_style_segment, config.image_size)"
   ]
  },
  {
   "cell_type": "code",
   "execution_count": 118,
   "metadata": {},
   "outputs": [
    {
     "data": {
      "text/plain": [
       "torch.Size([1, 3, 256, 400])"
      ]
     },
     "execution_count": 118,
     "metadata": {},
     "output_type": "execute_result"
    }
   ],
   "source": [
    "content = open_image(_content).to(device)\n",
    "content.shape"
   ]
  },
  {
   "cell_type": "raw",
   "metadata": {},
   "source": [
    "content[0][:3]"
   ]
  },
  {
   "cell_type": "code",
   "execution_count": 119,
   "metadata": {},
   "outputs": [],
   "source": [
    "from PIL import Image\n",
    "from torchvision import transforms\n",
    "from torchvision.utils import save_image\n"
   ]
  },
  {
   "cell_type": "code",
   "execution_count": 120,
   "metadata": {},
   "outputs": [],
   "source": [
    "image = Image.open(_content)"
   ]
  },
  {
   "cell_type": "code",
   "execution_count": 121,
   "metadata": {},
   "outputs": [],
   "source": [
    "_transforms = []\n",
    "w, h = image.size"
   ]
  },
  {
   "cell_type": "code",
   "execution_count": 122,
   "metadata": {},
   "outputs": [
    {
     "data": {
      "text/plain": [
       "(412, 270)"
      ]
     },
     "execution_count": 122,
     "metadata": {},
     "output_type": "execute_result"
    }
   ],
   "source": [
    "w,h"
   ]
  },
  {
   "cell_type": "code",
   "execution_count": 123,
   "metadata": {},
   "outputs": [],
   "source": [
    "_transforms.append(transforms.CenterCrop((h // 16 * 16, w // 16 * 16)))"
   ]
  },
  {
   "cell_type": "code",
   "execution_count": 124,
   "metadata": {},
   "outputs": [
    {
     "data": {
      "text/plain": [
       "[CenterCrop(size=(256, 400))]"
      ]
     },
     "execution_count": 124,
     "metadata": {},
     "output_type": "execute_result"
    }
   ],
   "source": [
    "_transforms"
   ]
  },
  {
   "cell_type": "code",
   "execution_count": 125,
   "metadata": {},
   "outputs": [
    {
     "data": {
      "text/plain": [
       "[CenterCrop(size=(256, 400)), ToTensor()]"
      ]
     },
     "execution_count": 125,
     "metadata": {},
     "output_type": "execute_result"
    }
   ],
   "source": [
    "_transforms.append(transforms.ToTensor())\n",
    "_transforms"
   ]
  },
  {
   "cell_type": "code",
   "execution_count": 126,
   "metadata": {},
   "outputs": [
    {
     "data": {
      "text/plain": [
       "Compose(\n",
       "    CenterCrop(size=(256, 400))\n",
       "    ToTensor()\n",
       ")"
      ]
     },
     "execution_count": 126,
     "metadata": {},
     "output_type": "execute_result"
    }
   ],
   "source": [
    "transform = transforms.Compose(_transforms)\n",
    "transform"
   ]
  },
  {
   "cell_type": "code",
   "execution_count": 127,
   "metadata": {},
   "outputs": [
    {
     "data": {
      "text/plain": [
       "torch.Size([1, 3, 256, 400])"
      ]
     },
     "execution_count": 127,
     "metadata": {},
     "output_type": "execute_result"
    }
   ],
   "source": [
    "result = transform(image).unsqueeze(0)\n",
    "result.shape"
   ]
  },
  {
   "cell_type": "code",
   "execution_count": 128,
   "metadata": {},
   "outputs": [
    {
     "data": {
      "text/plain": [
       "torch.Size([1, 3, 256, 400])"
      ]
     },
     "execution_count": 128,
     "metadata": {},
     "output_type": "execute_result"
    }
   ],
   "source": [
    "transform(image)[:3].unsqueeze(0).shape"
   ]
  },
  {
   "cell_type": "code",
   "execution_count": 129,
   "metadata": {
    "scrolled": true
   },
   "outputs": [
    {
     "data": {
      "text/plain": [
       "torch.Size([1, 3, 256, 400])"
      ]
     },
     "execution_count": 129,
     "metadata": {},
     "output_type": "execute_result"
    }
   ],
   "source": [
    "content.shape"
   ]
  },
  {
   "cell_type": "code",
   "execution_count": 130,
   "metadata": {},
   "outputs": [
    {
     "data": {
      "image/jpeg": "[encoded data removed]",
      "text/plain": [
       "<IPython.core.display.Image object>"
      ]
     },
     "execution_count": 130,
     "metadata": {},
     "output_type": "execute_result"
    }
   ],
   "source": [
    "from IPython.display import Image\n",
    "Image(filename=_content) "
   ]
  },
  {
   "cell_type": "code",
   "execution_count": 131,
   "metadata": {},
   "outputs": [
    {
     "data": {
      "image/jpeg": "[encoded data removed]",
      "text/plain": [
       "<IPython.core.display.Image object>"
      ]
     },
     "execution_count": 131,
     "metadata": {},
     "output_type": "execute_result"
    }
   ],
   "source": [
    "Image(filename=_style) "
   ]
  },
  {
   "cell_type": "code",
   "execution_count": 132,
   "metadata": {},
   "outputs": [
    {
     "data": {
      "image/jpeg": "[encoded data removed]",
      "text/plain": [
       "<IPython.core.display.Image object>"
      ]
     },
     "execution_count": 132,
     "metadata": {},
     "output_type": "execute_result"
    }
   ],
   "source": [
    "Image(filename=_content_segment) "
   ]
  },
  {
   "cell_type": "code",
   "execution_count": 133,
   "metadata": {
    "scrolled": true
   },
   "outputs": [
    {
     "data": {
      "image/jpeg": "[encoded data removed]",
      "text/plain": [
       "<IPython.core.display.Image object>"
      ]
     },
     "execution_count": 133,
     "metadata": {},
     "output_type": "execute_result"
    }
   ],
   "source": [
    "Image(filename=_style_segment) "
   ]
  },
  {
   "cell_type": "code",
   "execution_count": 134,
   "metadata": {
    "scrolled": true
   },
   "outputs": [
    {
     "data": {
      "text/plain": [
       "[{'decoder', 'encoder', 'skip'},\n",
       " {'decoder', 'encoder'},\n",
       " {'encoder', 'skip'},\n",
       " {'encoder'},\n",
       " {'decoder', 'skip'},\n",
       " {'decoder'},\n",
       " {'skip'}]"
      ]
     },
     "execution_count": 134,
     "metadata": {},
     "output_type": "execute_result"
    }
   ],
   "source": [
    "get_all_transfer()"
   ]
  },
  {
   "cell_type": "raw",
   "metadata": {},
   "source": [
    "_transfer_at"
   ]
  },
  {
   "cell_type": "code",
   "execution_count": 135,
   "metadata": {},
   "outputs": [
    {
     "data": {
      "text/plain": [
       "'decoder_encoder_skip'"
      ]
     },
     "execution_count": 135,
     "metadata": {},
     "output_type": "execute_result"
    }
   ],
   "source": [
    "postfix = '_'.join(sorted(list(_transfer_at)))\n",
    "postfix"
   ]
  },
  {
   "cell_type": "code",
   "execution_count": 136,
   "metadata": {},
   "outputs": [
    {
     "data": {
      "text/plain": [
       "'./outputs/gym1.jpg'"
      ]
     },
     "execution_count": 136,
     "metadata": {},
     "output_type": "execute_result"
    }
   ],
   "source": [
    "fname_output = _output.replace('.png', '_{}_{}.png'.format(config.option_unpool, postfix))\n",
    "fname_output"
   ]
  },
  {
   "cell_type": "code",
   "execution_count": 137,
   "metadata": {},
   "outputs": [],
   "source": [
    "wct2 = WCT2(transfer_at=_transfer_at, option_unpool=config.option_unpool, device=device, verbose=config.verbose)"
   ]
  },
  {
   "cell_type": "code",
   "execution_count": 138,
   "metadata": {},
   "outputs": [
    {
     "data": {
      "text/plain": [
       "torch.Size([1, 3, 256, 400])"
      ]
     },
     "execution_count": 138,
     "metadata": {},
     "output_type": "execute_result"
    }
   ],
   "source": [
    "content = open_image(_content).to(device)\n",
    "content.shape"
   ]
  },
  {
   "cell_type": "raw",
   "metadata": {},
   "source": [
    "style"
   ]
  },
  {
   "cell_type": "code",
   "execution_count": 139,
   "metadata": {},
   "outputs": [
    {
     "data": {
      "text/plain": [
       "torch.Size([1, 3, 512, 688])"
      ]
     },
     "execution_count": 139,
     "metadata": {},
     "output_type": "execute_result"
    }
   ],
   "source": [
    "style.shape"
   ]
  },
  {
   "cell_type": "code",
   "execution_count": 140,
   "metadata": {},
   "outputs": [
    {
     "data": {
      "text/plain": [
       "torch.Size([1, 3, 256, 400])"
      ]
     },
     "execution_count": 140,
     "metadata": {},
     "output_type": "execute_result"
    }
   ],
   "source": [
    "content.shape"
   ]
  },
  {
   "cell_type": "code",
   "execution_count": 141,
   "metadata": {},
   "outputs": [
    {
     "data": {
      "text/plain": [
       "(512, 768)"
      ]
     },
     "execution_count": 141,
     "metadata": {},
     "output_type": "execute_result"
    }
   ],
   "source": [
    "content_segment.shape"
   ]
  },
  {
   "cell_type": "code",
   "execution_count": 142,
   "metadata": {},
   "outputs": [
    {
     "name": "stdout",
     "output_type": "stream",
     "text": [
      "transfer at encoder 1\n",
      "transfer at encoder 2\n",
      "transfer at encoder 3\n",
      "transfer at encoder 4\n",
      "transfer at skip pool1\n",
      "transfer at skip pool2\n",
      "transfer at skip pool3\n",
      "transfer at decoder 3\n",
      "transfer at decoder 2\n",
      "transfer at decoder 1\n"
     ]
    }
   ],
   "source": [
    "with torch.no_grad():\n",
    "    img = wct2.transfer(content, style, content_segment, style_segment, alpha=config.alpha)\n"
   ]
  },
  {
   "cell_type": "code",
   "execution_count": 146,
   "metadata": {},
   "outputs": [
    {
     "name": "stdout",
     "output_type": "stream",
     "text": [
      "------ transfer: gym1.jpg\n",
      "transfer at encoder 1\n",
      "transfer at encoder 2\n",
      "transfer at encoder 3\n",
      "transfer at encoder 4\n",
      "transfer at skip pool1\n",
      "transfer at skip pool2\n",
      "transfer at skip pool3\n",
      "transfer at decoder 3\n",
      "transfer at decoder 2\n",
      "transfer at decoder 1\n",
      "Elapsed time in whole WCT: 0:00:02.073381\n",
      "------ transfer: gym1.jpg\n",
      "transfer at encoder 1\n",
      "transfer at encoder 2\n",
      "transfer at encoder 3\n",
      "transfer at encoder 4\n",
      "transfer at decoder 3\n",
      "transfer at decoder 2\n",
      "transfer at decoder 1\n",
      "Elapsed time in whole WCT: 0:00:01.175618\n",
      "------ transfer: gym1.jpg\n",
      "transfer at encoder 1\n",
      "transfer at encoder 2\n",
      "transfer at encoder 3\n",
      "transfer at encoder 4\n",
      "transfer at skip pool1\n",
      "transfer at skip pool2\n",
      "transfer at skip pool3\n",
      "Elapsed time in whole WCT: 0:00:01.692752\n",
      "------ transfer: gym1.jpg\n",
      "transfer at encoder 1\n",
      "transfer at encoder 2\n",
      "transfer at encoder 3\n",
      "transfer at encoder 4\n",
      "Elapsed time in whole WCT: 0:00:00.899947\n",
      "------ transfer: gym1.jpg\n",
      "transfer at skip pool1\n",
      "transfer at skip pool2\n",
      "transfer at skip pool3\n",
      "transfer at decoder 4\n",
      "transfer at decoder 3\n",
      "transfer at decoder 2\n",
      "transfer at decoder 1\n",
      "Elapsed time in whole WCT: 0:00:01.654536\n",
      "------ transfer: gym1.jpg\n",
      "transfer at decoder 4\n",
      "transfer at decoder 3\n",
      "transfer at decoder 2\n",
      "transfer at decoder 1\n",
      "Elapsed time in whole WCT: 0:00:00.900458\n",
      "------ transfer: gym1.jpg\n",
      "transfer at skip pool1\n",
      "transfer at skip pool2\n",
      "transfer at skip pool3\n",
      "Elapsed time in whole WCT: 0:00:01.040790\n"
     ]
    }
   ],
   "source": [
    "for _transfer_at in get_all_transfer():\n",
    "    with Timer('Elapsed time in whole WCT: {}', config.verbose):\n",
    "        postfix = '_'.join(sorted(list(_transfer_at)))\n",
    "        fname_output = _output.replace('.jpg', '_{}_{}.png'.format(config.option_unpool, postfix))\n",
    "        print('------ transfer:', fname)\n",
    "        wct2 = WCT2(transfer_at=_transfer_at, option_unpool=config.option_unpool, device=device, verbose=config.verbose)\n",
    "        with torch.no_grad():\n",
    "            img = wct2.transfer(content, style, content_segment, style_segment, alpha=config.alpha)\n",
    "        save_image(img.clamp_(0, 1), fname_output, padding=0)\n"
   ]
  },
  {
   "cell_type": "code",
   "execution_count": null,
   "metadata": {},
   "outputs": [],
   "source": [
    "config.transfer_all"
   ]
  },
  {
   "cell_type": "raw",
   "metadata": {},
   "source": [
    "np.concatenate((content.cpu(), style.cpu(), img.cpu()),\n",
    "                            axis=1).astype(np.uint8)"
   ]
  },
  {
   "cell_type": "code",
   "execution_count": 45,
   "metadata": {},
   "outputs": [
    {
     "data": {
      "text/plain": [
       "torch.Size([1, 3, 208, 304])"
      ]
     },
     "execution_count": 45,
     "metadata": {},
     "output_type": "execute_result"
    }
   ],
   "source": [
    "content.shape"
   ]
  },
  {
   "cell_type": "code",
   "execution_count": 46,
   "metadata": {},
   "outputs": [
    {
     "data": {
      "text/plain": [
       "torch.Size([1, 3, 512, 736])"
      ]
     },
     "execution_count": 46,
     "metadata": {},
     "output_type": "execute_result"
    }
   ],
   "source": [
    "style.shape"
   ]
  },
  {
   "cell_type": "code",
   "execution_count": 47,
   "metadata": {},
   "outputs": [
    {
     "data": {
      "text/plain": [
       "torch.Size([1, 3, 208, 304])"
      ]
     },
     "execution_count": 47,
     "metadata": {},
     "output_type": "execute_result"
    }
   ],
   "source": [
    "img.shape"
   ]
  },
  {
   "cell_type": "raw",
   "metadata": {},
   "source": [
    "a=content.tolist()"
   ]
  },
  {
   "cell_type": "code",
   "execution_count": 70,
   "metadata": {},
   "outputs": [
    {
     "data": {
      "text/plain": [
       "'./outputs/鞍馬寺_cat5_skip.png'"
      ]
     },
     "execution_count": 70,
     "metadata": {},
     "output_type": "execute_result"
    }
   ],
   "source": [
    "fname_output"
   ]
  },
  {
   "cell_type": "code",
   "execution_count": 199,
   "metadata": {},
   "outputs": [],
   "source": [
    "def cat_images(fname, ls_images_path):\n",
    "    images = []\n",
    "    max_width = 0 # find the max width of all the images\n",
    "    total_height = 0 # the total height of the images (vertical stacking)\n",
    "    for name in image_names:\n",
    "        # open all images and find their sizes\n",
    "        images.append(cv2.imread(name))\n",
    "        if images[-1].shape[1] > max_width:\n",
    "            max_width = images[-1].shape[1]\n",
    "        total_height += images[-1].shape[0]\n",
    "    \n",
    "    def cat_arrays(total_height,max_width,arrays):\n",
    "        # create a new array with a size large enough to contain all the images\n",
    "        final_array = np.zeros((total_height,max_width,3),dtype=np.uint8)\n",
    "\n",
    "        current_y = 0 # keep track of where your current image was last placed in the y coordinate\n",
    "        for array in arrays:\n",
    "            # add an image to the final array and increment the y coordinate\n",
    "            final_array[current_y:array.shape[0]+current_y,:array.shape[1],:] = array\n",
    "            current_y += array.shape[0]\n",
    "        return final_array\n",
    "    final_image = cat_arrays(total_height, max_width, images)\n",
    "    cv2.imwrite(fname,final_image)\n",
    "\n",
    "image_names = [_content, _style, './outputs/gym1_cat5_encoder_skip.png']\n",
    "cat_images(fname, image_names)\n",
    "# Image(fname)"
   ]
  },
  {
   "cell_type": "code",
   "execution_count": 200,
   "metadata": {},
   "outputs": [
    {
     "ename": "RuntimeError",
     "evalue": "invalid argument 0: Sizes of tensors must match except in dimension 1. Got 256 and 512 in dimension 2 at /opt/conda/conda-bld/pytorch_1550780889552/work/aten/src/THC/generic/THCTensorMath.cu:83",
     "output_type": "error",
     "traceback": [
      "\u001b[0;31m---------------------------------------------------------------------------\u001b[0m",
      "\u001b[0;31mRuntimeError\u001b[0m                              Traceback (most recent call last)",
      "\u001b[0;32m<ipython-input-200-a268d6598520>\u001b[0m in \u001b[0;36m<module>\u001b[0;34m\u001b[0m\n\u001b[0;32m----> 1\u001b[0;31m \u001b[0mtorch\u001b[0m\u001b[0;34m.\u001b[0m\u001b[0mcat\u001b[0m\u001b[0;34m(\u001b[0m\u001b[0;34m(\u001b[0m\u001b[0mcontent\u001b[0m\u001b[0;34m,\u001b[0m \u001b[0mstyle\u001b[0m\u001b[0;34m,\u001b[0m \u001b[0mimg\u001b[0m\u001b[0;34m)\u001b[0m\u001b[0;34m,\u001b[0m \u001b[0;36m1\u001b[0m\u001b[0;34m)\u001b[0m\u001b[0;34m\u001b[0m\u001b[0;34m\u001b[0m\u001b[0m\n\u001b[0m",
      "\u001b[0;31mRuntimeError\u001b[0m: invalid argument 0: Sizes of tensors must match except in dimension 1. Got 256 and 512 in dimension 2 at /opt/conda/conda-bld/pytorch_1550780889552/work/aten/src/THC/generic/THCTensorMath.cu:83"
     ]
    }
   ],
   "source": [
    "torch.cat((content, style, img), 1)"
   ]
  }
 ],
 "metadata": {
  "kernelspec": {
   "display_name": "TensorFlow-GPU",
   "language": "python",
   "name": "tfgpu"
  },
  "language_info": {
   "codemirror_mode": {
    "name": "ipython",
    "version": 3
   },
   "file_extension": ".py",
   "mimetype": "text/x-python",
   "name": "python",
   "nbconvert_exporter": "python",
   "pygments_lexer": "ipython3",
   "version": "3.6.8"
  }
 },
 "nbformat": 4,
 "nbformat_minor": 2
}
